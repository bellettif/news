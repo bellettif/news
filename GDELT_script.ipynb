{
 "cells": [
  {
   "cell_type": "code",
   "execution_count": 1,
   "metadata": {
    "collapsed": true
   },
   "outputs": [],
   "source": [
    "import pandas as pd\n",
    "import os\n",
    "import socks\n",
    "import socket\n",
    "import urllib2 as urllib\n",
    "import time\n",
    "from bs4 import BeautifulSoup\n",
    "from multiprocessing import Pool\n",
    "import numpy as np\n",
    "from matplotlib import pyplot as plt\n",
    "%matplotlib inline\n",
    "\n",
    "TIMEOUT = 1.0 # 1 second\n",
    "N_PROC = 16\n",
    "\n",
    "targets = map(lambda x : x.lower(),\n",
    "              [\"Trump\", \n",
    "               \"Cruz\", \n",
    "               \"Rubio\", \n",
    "               \"Carson\",\n",
    "               \"Paul\",\n",
    "               \"Bush\",\n",
    "               \"Huckabee\",\n",
    "               \"Kasich\",\n",
    "               \"Fiorina\",\n",
    "               \"Christie\",\n",
    "               \"Santorum\",\n",
    "               \"O'Malley\",\n",
    "               \"Clinton\", \n",
    "               \"Sanders\"])"
   ]
  },
  {
   "cell_type": "code",
   "execution_count": 19,
   "metadata": {
    "collapsed": false
   },
   "outputs": [],
   "source": [
    "def create_connection(address, timeout=None, source_address=None):\n",
    "    sock = socks.socksocket()\n",
    "    sock.connect(address)\n",
    "    return sock\n",
    "\n",
    "socks.setdefaultproxy(socks.PROXY_TYPE_SOCKS5, \"127.0.0.1\", 9050)\n",
    "\n",
    "# patch the socket module\n",
    "socket.socket = socks.socksocket\n",
    "socket.create_connection = create_connection\n",
    "\n",
    "def extract_freqs(targets, url):\n",
    "    start_time = time.clock()\n",
    "    try:\n",
    "        html = urllib.urlopen(url, timeout = TIMEOUT).read()\n",
    "        soup = BeautifulSoup(html)\n",
    "\n",
    "        # kill all script and style elements\n",
    "        for script in soup([\"script\", \"style\"]):\n",
    "            script.extract()    # rip it out\n",
    "\n",
    "        # get text\n",
    "        text = soup.get_text()\n",
    "        \n",
    "        # break into lines and remove leading and trailing space on each\n",
    "        lines = (line.strip() for line in text.splitlines())\n",
    "        # break multi-headlines into a line each\n",
    "        chunks = (phrase.strip() for line in lines for phrase in line.split(\"  \"))\n",
    "        # drop blank lines\n",
    "\n",
    "        word_list = [x.lower()\n",
    "                     for chunk in chunks if chunk \n",
    "                     for x in chunk.split(\" \")]\n",
    "\n",
    "        counts = dict(zip(targets, [0 for i in xrange(len(targets))]))\n",
    "\n",
    "        for word in word_list:\n",
    "            if word in counts:\n",
    "                counts[word] += 1\n",
    "        return counts, len(word_list), time.clock() - start_time\n",
    "    \n",
    "    except:\n",
    "        return None, None, time.clock() - start_time\n",
    "\n",
    "def extract_freqs_(args):\n",
    "    return extract_freqs(args[0], args[1])"
   ]
  },
  {
   "cell_type": "code",
   "execution_count": null,
   "metadata": {
    "collapsed": true
   },
   "outputs": [],
   "source": [
    "file_name = '20130401.export.CSV'\n",
    "\n",
    "p = Pool(N_PROC)\n",
    "\n",
    "for file_name in os.listdir('./'):\n",
    "    if '.CSV' not in file_name:\n",
    "        continue\n",
    "    event_table = pd.read_csv(file_name, sep = '\\t', header = None)\n",
    "    print 'Processing ' + str(file_name)\n",
    "    count_table['counts'] = p.map(extract_freqs_,\n",
    "                                  zip([targets] * len(event_table), \n",
    "                                      event_table[57].values))\n",
    "    print 'Done processing ' + str(file_name)\n",
    "    count_table.to_csv('counts_' + file_name)"
   ]
  }
 ],
 "metadata": {
  "kernelspec": {
   "display_name": "Python 2",
   "language": "python",
   "name": "python2"
  },
  "language_info": {
   "codemirror_mode": {
    "name": "ipython",
    "version": 2
   },
   "file_extension": ".py",
   "mimetype": "text/x-python",
   "name": "python",
   "nbconvert_exporter": "python",
   "pygments_lexer": "ipython2",
   "version": "2.7.6"
  }
 },
 "nbformat": 4,
 "nbformat_minor": 0
}
